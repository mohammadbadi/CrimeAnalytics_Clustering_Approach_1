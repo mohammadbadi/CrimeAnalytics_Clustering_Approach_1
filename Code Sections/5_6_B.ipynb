{
  "nbformat": 4,
  "nbformat_minor": 0,
  "metadata": {
    "colab": {
      "provenance": [],
      "authorship_tag": "ABX9TyMdplhNF/RvpLh+bcEz71h1",
      "include_colab_link": true
    },
    "kernelspec": {
      "name": "python3",
      "display_name": "Python 3"
    },
    "language_info": {
      "name": "python"
    }
  },
  "cells": [
    {
      "cell_type": "markdown",
      "metadata": {
        "id": "view-in-github",
        "colab_type": "text"
      },
      "source": [
        "<a href=\"https://colab.research.google.com/github/mohammadbadi/Clustering_FE_MCA/blob/main/Code%20Sections/5_6_B.ipynb\" target=\"_parent\"><img src=\"https://colab.research.google.com/assets/colab-badge.svg\" alt=\"Open In Colab\"/></a>"
      ]
    },
    {
      "cell_type": "code",
      "execution_count": 1,
      "metadata": {
        "colab": {
          "base_uri": "https://localhost:8080/",
          "height": 53
        },
        "id": "rPMrDLQ4FBRC",
        "outputId": "f51d5d74-64fb-4ff3-8510-f0a6f4a1b767"
      },
      "outputs": [
        {
          "output_type": "stream",
          "name": "stdout",
          "text": [
            "Saved all feature combinations to 'Feature_Combo_All_with_set_number.csv'. Total sets: 2749\n",
            "Total number of chunks (143 sets each): 20\n"
          ]
        },
        {
          "output_type": "display_data",
          "data": {
            "text/plain": [
              "<IPython.core.display.Javascript object>"
            ],
            "application/javascript": [
              "\n",
              "    async function download(id, filename, size) {\n",
              "      if (!google.colab.kernel.accessAllowed) {\n",
              "        return;\n",
              "      }\n",
              "      const div = document.createElement('div');\n",
              "      const label = document.createElement('label');\n",
              "      label.textContent = `Downloading \"${filename}\": `;\n",
              "      div.appendChild(label);\n",
              "      const progress = document.createElement('progress');\n",
              "      progress.max = size;\n",
              "      div.appendChild(progress);\n",
              "      document.body.appendChild(div);\n",
              "\n",
              "      const buffers = [];\n",
              "      let downloaded = 0;\n",
              "\n",
              "      const channel = await google.colab.kernel.comms.open(id);\n",
              "      // Send a message to notify the kernel that we're ready.\n",
              "      channel.send({})\n",
              "\n",
              "      for await (const message of channel.messages) {\n",
              "        // Send a message to notify the kernel that we're ready.\n",
              "        channel.send({})\n",
              "        if (message.buffers) {\n",
              "          for (const buffer of message.buffers) {\n",
              "            buffers.push(buffer);\n",
              "            downloaded += buffer.byteLength;\n",
              "            progress.value = downloaded;\n",
              "          }\n",
              "        }\n",
              "      }\n",
              "      const blob = new Blob(buffers, {type: 'application/binary'});\n",
              "      const a = document.createElement('a');\n",
              "      a.href = window.URL.createObjectURL(blob);\n",
              "      a.download = filename;\n",
              "      div.appendChild(a);\n",
              "      a.click();\n",
              "      div.remove();\n",
              "    }\n",
              "  "
            ]
          },
          "metadata": {}
        },
        {
          "output_type": "display_data",
          "data": {
            "text/plain": [
              "<IPython.core.display.Javascript object>"
            ],
            "application/javascript": [
              "download(\"download_963663b3-41fe-4a6c-98a2-fdfa2d7e13bd\", \"Feature_Combo_All_with_set_number.csv\", 257626)"
            ]
          },
          "metadata": {}
        }
      ],
      "source": [
        "import os\n",
        "import warnings\n",
        "import itertools\n",
        "import numpy as np\n",
        "import pandas as pd\n",
        "from sklearn.cluster import DBSCAN\n",
        "from sklearn.metrics import silhouette_score\n",
        "from sklearn.preprocessing import StandardScaler\n",
        "from IPython.display import display, HTML\n",
        "from google.colab import files  # For automatic file download in Colab\n",
        "\n",
        "warnings.filterwarnings(\"ignore\", category=DeprecationWarning)\n",
        "warnings.filterwarnings(\"ignore\", category=FutureWarning)\n",
        "\n",
        "# ----- Helper function to split a list into chunks of given size -----\n",
        "def chunk_list(lst, chunk_size):\n",
        "    \"\"\"Yield successive chunk_size-sized chunks from lst.\"\"\"\n",
        "    for i in range(0, len(lst), chunk_size):\n",
        "        yield lst[i:i + chunk_size]\n",
        "\n",
        "# -------------------------------\n",
        "# Generate Feature Combinations\n",
        "# -------------------------------\n",
        "base_features = [\"OCC_YEAR\", \"OCC_DAY\", \"OCC_DOY\", \"OCC_HOUR\", \"OCC_MONTH_Num\",\"DOW_Category_Freq\"]\n",
        "\n",
        "group1_options = [\n",
        "    [\"LONG_LAT_PCA\"],\n",
        "    [\"LONG_WGS84\", \"LAT_WGS84\"]\n",
        "]\n",
        "\n",
        "group2_options = [\n",
        "    [\"Division_Freq\"],\n",
        "    [\"HOOD_Freq\"],\n",
        "    [\"DIV_HOOD_Hier\"]\n",
        "]\n",
        "\n",
        "group3_options = [\n",
        "    [\"LOCATION_Freq\"],\n",
        "    [\"PREMISES_Freq\"],\n",
        "    [\"Loca_Premi_Freq\"]\n",
        "]\n",
        "\n",
        "all_combinations = []\n",
        "for r in range(len(base_features) + 1):\n",
        "    for base_subset in itertools.combinations(base_features, r):\n",
        "        base_list = list(base_subset)\n",
        "        for g1 in ([None] + group1_options):\n",
        "            for g2 in ([None] + group2_options):\n",
        "                for g3 in ([None] + group3_options):\n",
        "                        current_set = base_list.copy()\n",
        "                        if g1 is not None:\n",
        "                            current_set += g1\n",
        "                        if g2 is not None:\n",
        "                            current_set += g2\n",
        "                        if g3 is not None:\n",
        "                            current_set += g3\n",
        "                        # Remove duplicates while preserving order\n",
        "                        current_set = list(dict.fromkeys(current_set))\n",
        "                        if len(current_set) >= 4:\n",
        "                            all_combinations.append(current_set)\n",
        "\n",
        "# Create a DataFrame with an additional set_number column\n",
        "feature_df = pd.DataFrame({\n",
        "    \"set_number\": range(1, len(all_combinations)+1),\n",
        "    \"features\": all_combinations\n",
        "})\n",
        "all_combos_filename = \"Feature_Combo_All_with_set_number.csv\"\n",
        "feature_df.to_csv(all_combos_filename, index=False)\n",
        "print(f\"Saved all feature combinations to '{all_combos_filename}'. Total sets: {len(all_combinations)}\")\n",
        "\n",
        "# Split into chunks of 143 sets (as before)\n",
        "chunk_size = 143\n",
        "chunks = list(chunk_list(all_combinations, chunk_size))\n",
        "total_chunks = len(chunks)\n",
        "print(f\"Total number of chunks (143 sets each): {total_chunks}\")\n",
        "files.download(all_combos_filename)"
      ]
    }
  ]
}