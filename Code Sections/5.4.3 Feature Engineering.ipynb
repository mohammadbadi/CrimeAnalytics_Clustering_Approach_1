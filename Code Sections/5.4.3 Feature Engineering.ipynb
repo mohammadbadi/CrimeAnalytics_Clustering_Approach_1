{
  "nbformat": 4,
  "nbformat_minor": 0,
  "metadata": {
    "colab": {
      "provenance": [],
      "authorship_tag": "ABX9TyPeFgi16uwK7y3KLkauk1i0",
      "include_colab_link": true
    },
    "kernelspec": {
      "name": "python3",
      "display_name": "Python 3"
    },
    "language_info": {
      "name": "python"
    }
  },
  "cells": [
    {
      "cell_type": "markdown",
      "metadata": {
        "id": "view-in-github",
        "colab_type": "text"
      },
      "source": [
        "<a href=\"https://colab.research.google.com/github/mohammadbadi/Clustering_FE_MCA/blob/main/Code%20Sections/5.4.3%20Feature%20Engineering.ipynb\" target=\"_parent\"><img src=\"https://colab.research.google.com/assets/colab-badge.svg\" alt=\"Open In Colab\"/></a>"
      ]
    },
    {
      "cell_type": "markdown",
      "source": [
        "### **5.4.3 Feature Engineering - Approach 3**"
      ],
      "metadata": {
        "id": "gZxDZdRGYmqP"
      }
    },
    {
      "cell_type": "code",
      "execution_count": 1,
      "metadata": {
        "id": "2Zz9TwH_LvUN",
        "colab": {
          "base_uri": "https://localhost:8080/",
          "height": 260
        },
        "outputId": "9a443580-194a-409b-92c1-c162a3bdebd5"
      },
      "outputs": [
        {
          "output_type": "display_data",
          "data": {
            "text/plain": [
              "<IPython.core.display.HTML object>"
            ],
            "text/html": [
              "<p style='color: green; font-size: 16px; font-weight: bold;'>Data loaded successfully.</p>"
            ]
          },
          "metadata": {}
        },
        {
          "output_type": "display_data",
          "data": {
            "text/plain": [
              "<IPython.core.display.HTML object>"
            ],
            "text/html": [
              "\n",
              "<table style='border-collapse: collapse; width: 100%; font-size: 18px;'>\n",
              "    <thead style='background-color: #4CAF50; color: white;'>\n",
              "        <tr>\n",
              "            <th colspan=\"3\" style=\"text-align: center; font-size: 24px; background-color: #2f4f4f; color: white;\">5.4.3 Feature Engineering Phase - Approach 3</th>\n",
              "        </tr>\n",
              "        <tr>\n",
              "            <th style='border: 1px solid #dddddd; padding: 8px;'>Original Feature</th>\n",
              "            <th style='border: 1px solid #dddddd; padding: 8px;'>Action Taken</th>\n",
              "            <th style='border: 1px solid #dddddd; padding: 8px;'>Rationale</th>\n",
              "        </tr>\n",
              "    </thead>\n",
              "    <tbody>\n",
              "\n",
              "        <tr style='border: 1px solid #dddddd; background-color: #f2f2f2;'>\n",
              "            <td style='border: 1px solid #dddddd; padding: 8px;'>OCC_MONTH</td>\n",
              "            <td style='border: 1px solid #dddddd; padding: 8px;'>Converted to 'OCC_MONTH_Num' (numeric)</td>\n",
              "            <td style='border: 1px solid #dddddd; padding: 8px;'>Clustering algorithms require numeric data for distance computations</td>\n",
              "        </tr>\n",
              "    \n",
              "        <tr style='border: 1px solid #dddddd; background-color: white;'>\n",
              "            <td style='border: 1px solid #dddddd; padding: 8px;'>Columns affected in <br><strong>5.4.3 Feature Engineering - Approach 3</strong></td>\n",
              "            <td style='border: 1px solid #dddddd; padding: 8px;'>Initial Columns: <strong><br>18</strong></td>\n",
              "            <td style='border: 1px solid #dddddd; padding: 8px;'>Final Columns: <strong><br>19</strong></td>\n",
              "        </tr>\n",
              "    \n",
              "        <tr style='border: 1px solid #dddddd;'>\n",
              "            <td colspan=\"3\" style='border: 1px solid #dddddd; padding: 8px; background-color: #f8f8f8;'><strong>Feature Engineering completed and saved as <span style='color: green;'>FEngineered_New.csv</span> for further analysis.</strong></td>\n",
              "        </tr>\n",
              "    </tbody>\n",
              "</table>\n"
            ]
          },
          "metadata": {}
        },
        {
          "output_type": "display_data",
          "data": {
            "text/plain": [
              "<IPython.core.display.Javascript object>"
            ],
            "application/javascript": [
              "\n",
              "    async function download(id, filename, size) {\n",
              "      if (!google.colab.kernel.accessAllowed) {\n",
              "        return;\n",
              "      }\n",
              "      const div = document.createElement('div');\n",
              "      const label = document.createElement('label');\n",
              "      label.textContent = `Downloading \"${filename}\": `;\n",
              "      div.appendChild(label);\n",
              "      const progress = document.createElement('progress');\n",
              "      progress.max = size;\n",
              "      div.appendChild(progress);\n",
              "      document.body.appendChild(div);\n",
              "\n",
              "      const buffers = [];\n",
              "      let downloaded = 0;\n",
              "\n",
              "      const channel = await google.colab.kernel.comms.open(id);\n",
              "      // Send a message to notify the kernel that we're ready.\n",
              "      channel.send({})\n",
              "\n",
              "      for await (const message of channel.messages) {\n",
              "        // Send a message to notify the kernel that we're ready.\n",
              "        channel.send({})\n",
              "        if (message.buffers) {\n",
              "          for (const buffer of message.buffers) {\n",
              "            buffers.push(buffer);\n",
              "            downloaded += buffer.byteLength;\n",
              "            progress.value = downloaded;\n",
              "          }\n",
              "        }\n",
              "      }\n",
              "      const blob = new Blob(buffers, {type: 'application/binary'});\n",
              "      const a = document.createElement('a');\n",
              "      a.href = window.URL.createObjectURL(blob);\n",
              "      a.download = filename;\n",
              "      div.appendChild(a);\n",
              "      a.click();\n",
              "      div.remove();\n",
              "    }\n",
              "  "
            ]
          },
          "metadata": {}
        },
        {
          "output_type": "display_data",
          "data": {
            "text/plain": [
              "<IPython.core.display.Javascript object>"
            ],
            "application/javascript": [
              "download(\"download_e635f387-471c-41ab-a73d-b8010bad3e8d\", \"FEngineered_New.csv\", 10784609)"
            ]
          },
          "metadata": {}
        }
      ],
      "source": [
        "# Install prince if not already installed (uncomment the next line if needed)\n",
        "# !pip install prince -qqq\n",
        "\n",
        "import warnings                                                                   # Import necessary libraries\n",
        "import pandas as pd\n",
        "import numpy as np\n",
        "import matplotlib.pyplot as plt\n",
        "import seaborn as sns\n",
        "from sklearn.preprocessing import StandardScaler\n",
        "from sklearn.cluster import KMeans\n",
        "from sklearn.metrics import silhouette_score, davies_bouldin_score, calinski_harabasz_score\n",
        "from sklearn.decomposition import PCA\n",
        "from google.colab import files\n",
        "from IPython.display import display, HTML\n",
        "\n",
        "                                                                                  # URL of the Dataset\n",
        "url = \"https://raw.githubusercontent.com/mohammadbadi/CrimeAnalytics_Clustering/refs/heads/main/Output_CSV/Final_Data.csv\"\n",
        "try:\n",
        "  df = pd.read_csv(url)\n",
        "                                                                                  # Print statement removed, only using HTML display below\n",
        "except Exception as e:\n",
        "  display(HTML(f\"<p style='color: red; font-size: 16px; font-weight: bold;'>Error loading data: {e}</p>\"))\n",
        "  exit()\n",
        "\n",
        "Data_Preparing_df = pd.read_csv(url)\n",
        "display(HTML(\"<p style='color: green; font-size: 16px; font-weight: bold;'>Data loaded successfully.</p>\"))\n",
        "\n",
        "                                                                                  # Capture initial column count\n",
        "initial_cols_count = len(Data_Preparing_df.columns)\n",
        "\n",
        "steps_summary = []   # Table to store results\n",
        "\n",
        "                                                                                  # Process OCC_MONTH conversion (Step 1: Feature Engineering)  -> Convert month names to numeric\n",
        "month_mapping = {'January': 1, 'February': 2, 'March': 3, 'April': 4, 'May': 5, 'June': 6, 'July': 7, 'August': 8, 'September': 9, 'October': 10, 'November': 11, 'December': 12}; Data_Preparing_df['OCC_MONTH_Num'] = Data_Preparing_df['OCC_MONTH'].map(month_mapping)\n",
        "steps_summary.append({\n",
        "    \"Original Feature\": \"OCC_MONTH\",\n",
        "    \"Action Taken\": \"Converted to 'OCC_MONTH_Num' (numeric)\",\n",
        "    \"Rationale\": \"Clustering algorithms require numeric data for distance computations\"\n",
        "})\n",
        "\n",
        "\n",
        "                                                                                  # Capture final column count after feature engineering\n",
        "final_cols_count = len(Data_Preparing_df.columns)\n",
        "                                                                                  # Summary Row for Feature Engineering\n",
        "steps_summary.append({\n",
        "    \"Original Feature\": \"Columns affected in <br><strong>5.4.3 Feature Engineering - Approach 3</strong>\",\n",
        "    \"Action Taken\": \"Initial Columns: <strong><br>\" + str(initial_cols_count) + \"</strong>\",\n",
        "    \"Rationale\": \"Final Columns: <strong><br>\" + str(final_cols_count) + \"</strong>\",\n",
        "})\n",
        "\n",
        "                                                                                  # Build HTML Table for Feature Engineering Phase with alternate row shading\n",
        "html_table = \"\"\"\n",
        "<table style='border-collapse: collapse; width: 100%; font-size: 18px;'>\n",
        "    <thead style='background-color: #4CAF50; color: white;'>\n",
        "        <tr>\n",
        "            <th colspan=\"3\" style=\"text-align: center; font-size: 24px; background-color: #2f4f4f; color: white;\">5.4.3 Feature Engineering Phase - Approach 3</th>\n",
        "        </tr>\n",
        "        <tr>\n",
        "            <th style='border: 1px solid #dddddd; padding: 8px;'>Original Feature</th>\n",
        "            <th style='border: 1px solid #dddddd; padding: 8px;'>Action Taken</th>\n",
        "            <th style='border: 1px solid #dddddd; padding: 8px;'>Rationale</th>\n",
        "        </tr>\n",
        "    </thead>\n",
        "    <tbody>\n",
        "\"\"\"\n",
        "\n",
        "                                                                                  # Add rows with alternating shading\n",
        "for i, step in enumerate(steps_summary):\n",
        "                                                                                  # Add background color for alternating rows (even rows get light gray)\n",
        "    bg_color = \"#f2f2f2\" if i % 2 == 0 else \"white\"\n",
        "    html_table += f\"\"\"\n",
        "        <tr style='border: 1px solid #dddddd; background-color: {bg_color};'>\n",
        "            <td style='border: 1px solid #dddddd; padding: 8px;'>{step[\"Original Feature\"]}</td>\n",
        "            <td style='border: 1px solid #dddddd; padding: 8px;'>{step[\"Action Taken\"]}</td>\n",
        "            <td style='border: 1px solid #dddddd; padding: 8px;'>{step[\"Rationale\"]}</td>\n",
        "        </tr>\n",
        "    \"\"\"\n",
        "\n",
        "                                                                                  # Add footer note inside the table\n",
        "note_text = (\n",
        "    \"Feature Engineering completed and saved as <span style='color: green;'>FEngineered_New.csv</span> \"\n",
        "    \"for further analysis.\"\n",
        ")\n",
        "html_table += f\"\"\"\n",
        "        <tr style='border: 1px solid #dddddd;'>\n",
        "            <td colspan=\"3\" style='border: 1px solid #dddddd; padding: 8px; background-color: #f8f8f8;'><strong>{note_text}</strong></td>\n",
        "        </tr>\n",
        "    </tbody>\n",
        "</table>\n",
        "\"\"\"\n",
        "display(HTML(html_table))\n",
        "\n",
        "Data_Preparing_df.to_csv(\"FEngineered_New.csv\", index=False)                      # Save engineered data as FEngineered_New.csv\n",
        "files.download(\"FEngineered_New.csv\")"
      ]
    }
  ]
}