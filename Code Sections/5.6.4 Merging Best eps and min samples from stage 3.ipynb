{
  "nbformat": 4,
  "nbformat_minor": 0,
  "metadata": {
    "colab": {
      "provenance": [],
      "authorship_tag": "ABX9TyO6eGNa8eYZjB+uRG8zw4Iw",
      "include_colab_link": true
    },
    "kernelspec": {
      "name": "python3",
      "display_name": "Python 3"
    },
    "language_info": {
      "name": "python"
    }
  },
  "cells": [
    {
      "cell_type": "markdown",
      "metadata": {
        "id": "view-in-github",
        "colab_type": "text"
      },
      "source": [
        "<a href=\"https://colab.research.google.com/github/mohammadbadi/Clustering_FE_MCA/blob/main/Code%20Sections/5.6.4%20Merging%20Best%20eps%20and%20min%20samples%20from%20stage%203.ipynb\" target=\"_parent\"><img src=\"https://colab.research.google.com/assets/colab-badge.svg\" alt=\"Open In Colab\"/></a>"
      ]
    },
    {
      "cell_type": "code",
      "execution_count": null,
      "metadata": {
        "colab": {
          "base_uri": "https://localhost:8080/",
          "height": 616
        },
        "id": "fW7SRxBosIpJ",
        "outputId": "eac2a9d7-b2c5-4363-a055-212b6b432607"
      },
      "outputs": [
        {
          "output_type": "stream",
          "name": "stdout",
          "text": [
            "Reading file: https://raw.githubusercontent.com/mohammadbadi/Clustering_FE_MCA/refs/heads/main/Output_CSV/DBSCAN_Best_Fine_Params_chunk_1.csv\n",
            "Reading file: https://raw.githubusercontent.com/mohammadbadi/Clustering_FE_MCA/refs/heads/main/Output_CSV/DBSCAN_Best_Fine_Params_chunk_1.csv\n",
            "Reading file: https://raw.githubusercontent.com/mohammadbadi/Clustering_FE_MCA/refs/heads/main/Output_CSV/DBSCAN_Best_Fine_Params_chunk_1.csv\n",
            "Reading file: https://raw.githubusercontent.com/mohammadbadi/Clustering_FE_MCA/refs/heads/main/Output_CSV/DBSCAN_Best_Fine_Params_chunk_1.csv\n",
            "Reading file: https://raw.githubusercontent.com/mohammadbadi/Clustering_FE_MCA/refs/heads/main/Output_CSV/DBSCAN_Best_Fine_Params_chunk_1.csv\n",
            "Reading file: https://raw.githubusercontent.com/mohammadbadi/Clustering_FE_MCA/refs/heads/main/Output_CSV/DBSCAN_Best_Fine_Params_chunk_1.csv\n",
            "Reading file: https://raw.githubusercontent.com/mohammadbadi/Clustering_FE_MCA/refs/heads/main/Output_CSV/DBSCAN_Best_Fine_Params_chunk_1.csv\n",
            "Reading file: https://raw.githubusercontent.com/mohammadbadi/Clustering_FE_MCA/refs/heads/main/Output_CSV/DBSCAN_Best_Fine_Params_chunk_1.csv\n",
            "Reading file: https://raw.githubusercontent.com/mohammadbadi/Clustering_FE_MCA/refs/heads/main/Output_CSV/DBSCAN_Best_Fine_Params_chunk_1.csv\n",
            "Reading file: https://raw.githubusercontent.com/mohammadbadi/Clustering_FE_MCA/refs/heads/main/Output_CSV/DBSCAN_Best_Fine_Params_chunk_1.csv\n",
            "Reading file: https://raw.githubusercontent.com/mohammadbadi/Clustering_FE_MCA/refs/heads/main/Output_CSV/DBSCAN_Best_Fine_Params_chunk_1.csv\n",
            "Reading file: https://raw.githubusercontent.com/mohammadbadi/Clustering_FE_MCA/refs/heads/main/Output_CSV/DBSCAN_Best_Fine_Params_chunk_1.csv\n",
            "Reading file: https://raw.githubusercontent.com/mohammadbadi/Clustering_FE_MCA/refs/heads/main/Output_CSV/DBSCAN_Best_Fine_Params_chunk_1.csv\n",
            "Reading file: https://raw.githubusercontent.com/mohammadbadi/Clustering_FE_MCA/refs/heads/main/Output_CSV/DBSCAN_Best_Fine_Params_chunk_1.csv\n",
            "Reading file: https://raw.githubusercontent.com/mohammadbadi/Clustering_FE_MCA/refs/heads/main/Output_CSV/DBSCAN_Best_Fine_Params_chunk_1.csv\n",
            "Reading file: https://raw.githubusercontent.com/mohammadbadi/Clustering_FE_MCA/refs/heads/main/Output_CSV/DBSCAN_Best_Fine_Params_chunk_1.csv\n",
            "Reading file: https://raw.githubusercontent.com/mohammadbadi/Clustering_FE_MCA/refs/heads/main/Output_CSV/DBSCAN_Best_Fine_Params_chunk_1.csv\n",
            "Reading file: https://raw.githubusercontent.com/mohammadbadi/Clustering_FE_MCA/refs/heads/main/Output_CSV/DBSCAN_Best_Fine_Params_chunk_1.csv\n",
            "Reading file: https://raw.githubusercontent.com/mohammadbadi/Clustering_FE_MCA/refs/heads/main/Output_CSV/DBSCAN_Best_Fine_Params_chunk_1.csv\n",
            "Reading file: https://raw.githubusercontent.com/mohammadbadi/Clustering_FE_MCA/refs/heads/main/Output_CSV/DBSCAN_Best_Fine_Params_chunk_1.csv\n",
            "Reading file: https://raw.githubusercontent.com/mohammadbadi/Clustering_FE_MCA/refs/heads/main/Output_CSV/DBSCAN_Best_Fine_Params_chunk_1.csv\n",
            "Reading file: https://raw.githubusercontent.com/mohammadbadi/Clustering_FE_MCA/refs/heads/main/Output_CSV/DBSCAN_Best_Fine_Params_chunk_1.csv\n",
            "Reading file: https://raw.githubusercontent.com/mohammadbadi/Clustering_FE_MCA/refs/heads/main/Output_CSV/DBSCAN_Best_Fine_Params_chunk_1.csv\n",
            "Reading file: https://raw.githubusercontent.com/mohammadbadi/Clustering_FE_MCA/refs/heads/main/Output_CSV/DBSCAN_Best_Fine_Params_chunk_1.csv\n",
            "Reading file: https://raw.githubusercontent.com/mohammadbadi/Clustering_FE_MCA/refs/heads/main/Output_CSV/DBSCAN_Best_Fine_Params_chunk_1.csv\n",
            "Reading file: https://raw.githubusercontent.com/mohammadbadi/Clustering_FE_MCA/refs/heads/main/Output_CSV/DBSCAN_Best_Fine_Params_chunk_1.csv\n",
            "Reading file: https://raw.githubusercontent.com/mohammadbadi/Clustering_FE_MCA/refs/heads/main/Output_CSV/DBSCAN_Best_Fine_Params_chunk_1.csv\n",
            "Reading file: https://raw.githubusercontent.com/mohammadbadi/Clustering_FE_MCA/refs/heads/main/Output_CSV/DBSCAN_Best_Fine_Params_chunk_1.csv\n",
            "Reading file: https://raw.githubusercontent.com/mohammadbadi/Clustering_FE_MCA/refs/heads/main/Output_CSV/DBSCAN_Best_Fine_Params_chunk_1.csv\n",
            "Reading file: https://raw.githubusercontent.com/mohammadbadi/Clustering_FE_MCA/refs/heads/main/Output_CSV/DBSCAN_Best_Fine_Params_chunk_1.csv\n"
          ]
        },
        {
          "output_type": "display_data",
          "data": {
            "text/plain": [
              "<IPython.core.display.HTML object>"
            ],
            "text/html": [
              "\n",
              "    <p style=\"color: darkblue; font-size: 18px; font-weight: bold;\">\n",
              "         Merged dataset saved as <span style=\"color: green; font-weight: bold;\">Feature_Combos__Freq_New.csv</span>.\n",
              "    </p>\n"
            ]
          },
          "metadata": {}
        },
        {
          "output_type": "display_data",
          "data": {
            "text/plain": [
              "<IPython.core.display.Javascript object>"
            ],
            "application/javascript": [
              "\n",
              "    async function download(id, filename, size) {\n",
              "      if (!google.colab.kernel.accessAllowed) {\n",
              "        return;\n",
              "      }\n",
              "      const div = document.createElement('div');\n",
              "      const label = document.createElement('label');\n",
              "      label.textContent = `Downloading \"${filename}\": `;\n",
              "      div.appendChild(label);\n",
              "      const progress = document.createElement('progress');\n",
              "      progress.max = size;\n",
              "      div.appendChild(progress);\n",
              "      document.body.appendChild(div);\n",
              "\n",
              "      const buffers = [];\n",
              "      let downloaded = 0;\n",
              "\n",
              "      const channel = await google.colab.kernel.comms.open(id);\n",
              "      // Send a message to notify the kernel that we're ready.\n",
              "      channel.send({})\n",
              "\n",
              "      for await (const message of channel.messages) {\n",
              "        // Send a message to notify the kernel that we're ready.\n",
              "        channel.send({})\n",
              "        if (message.buffers) {\n",
              "          for (const buffer of message.buffers) {\n",
              "            buffers.push(buffer);\n",
              "            downloaded += buffer.byteLength;\n",
              "            progress.value = downloaded;\n",
              "          }\n",
              "        }\n",
              "      }\n",
              "      const blob = new Blob(buffers, {type: 'application/binary'});\n",
              "      const a = document.createElement('a');\n",
              "      a.href = window.URL.createObjectURL(blob);\n",
              "      a.download = filename;\n",
              "      div.appendChild(a);\n",
              "      a.click();\n",
              "      div.remove();\n",
              "    }\n",
              "  "
            ]
          },
          "metadata": {}
        },
        {
          "output_type": "display_data",
          "data": {
            "text/plain": [
              "<IPython.core.display.Javascript object>"
            ],
            "application/javascript": [
              "download(\"download_260b0dab-fb7e-4269-b4ad-90ccce80b7a0\", \"Feature_Combos__Freq_New.csv\", 455108)"
            ]
          },
          "metadata": {}
        }
      ],
      "source": [
        "import pandas as pd\n",
        "from google.colab import files\n",
        "from IPython.display import display, HTML\n",
        "\n",
        "# Base URL pattern. We'll replace the chunk number.\n",
        "base_url = \"https://raw.githubusercontent.com/mohammadbadi/Clustering_FE_MCA/refs/heads/main/Output_CSV/DBSCAN_Best_Fine_Params_chunk_1.csv\"\n",
        "\n",
        "# List to hold dataframes\n",
        "dfs = []\n",
        "\n",
        "# Loop through file numbers 1 to 30\n",
        "for i in range(1, 31):\n",
        "    url = base_url.format(i)\n",
        "    print(f\"Reading file: {url}\")\n",
        "    try:\n",
        "        df = pd.read_csv(url)\n",
        "        dfs.append(df)\n",
        "    except Exception as e:\n",
        "        print(f\"Error reading file {url}: {e}\")\n",
        "\n",
        "# Merge all dataframes into one\n",
        "merged_df = pd.concat(dfs, ignore_index=True)\n",
        "\n",
        "# Save the merged file locally\n",
        "output_filename = 'Feature_Combos__Freq_New.csv'\n",
        "merged_df.to_csv(output_filename, index=False)\n",
        "# Display a formatted success message\n",
        "display(HTML(f\"\"\"\n",
        "    <p style=\"color: darkblue; font-size: 18px; font-weight: bold;\">\n",
        "         Merged dataset saved as <span style=\"color: green; font-weight: bold;\">{output_filename}</span>.\n",
        "    </p>\n",
        "\"\"\"))\n",
        "\n",
        "# Download the merged file\n",
        "files.download(output_filename)"
      ]
    }
  ]
}